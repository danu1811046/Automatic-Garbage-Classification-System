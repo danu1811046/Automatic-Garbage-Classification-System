{
  "nbformat": 4,
  "nbformat_minor": 0,
  "metadata": {
    "colab": {
      "provenance": [],
      "authorship_tag": "ABX9TyOd2/A49xKSASQZFrND0pTv",
      "include_colab_link": true
    },
    "kernelspec": {
      "name": "python3",
      "display_name": "Python 3"
    },
    "language_info": {
      "name": "python"
    }
  },
  "cells": [
    {
      "cell_type": "markdown",
      "metadata": {
        "id": "view-in-github",
        "colab_type": "text"
      },
      "source": [
        "<a href=\"https://colab.research.google.com/github/danu1811046/Automatic-Garbage-Classification-System/blob/main/Relay_Tripping_Calculation.ipynb\" target=\"_parent\"><img src=\"https://colab.research.google.com/assets/colab-badge.svg\" alt=\"Open In Colab\"/></a>"
      ]
    },
    {
      "cell_type": "code",
      "source": [
        " def IEC_255_Trip_Time(pickup, curve, TMS, fault_current, debug=False):\n",
        "    # Given IEC 255 curve parameters and a fault current, returns the tripping time.\n",
        "    # pickup in amps\n",
        "    # curve type: \"SI\", \"VI\", or \"EI\"\n",
        "    # tms is time dial, a positive nonzero number\n",
        "    # current is in amps\n",
        "    # This function assumes the curve goes definite time after 20x setting.\n",
        "\n",
        "    # IEC 60255 curve constants\n",
        "    K = {\"SI\": 0.14, \"VI\": 13.5, \"EI\": 80.0}[curve]\n",
        "    alpha = {\"SI\": 0.02, \"VI\": 1.00, \"EI\": 2.00}[curve]\n",
        "\n",
        "    I_per_unit = fault_current / pickup\n",
        "\n",
        "    if I_per_unit > 20.0:\n",
        "        I_per_unit = 20.0  # IEC curves usually go definite time at 20x setting\n",
        "\n",
        "    t = TMS * K / ((I_per_unit ** alpha) - 1)\n",
        "\n",
        "    if debug:\n",
        "        print(f\"Trip time: {t:.3f} sec | Pickup {pickup:.2f} A, curve {curve}, TMS {TMS:.2f} xt, fault current {fault_current:.2f} A ({I_per_unit:.2f} x setting)\")\n",
        "\n",
        "    return t\n",
        "\n",
        "\n",
        "def IEC_255_TMS_Calc(pickup, curve, target_time, fault_current, debug=False):\n",
        "    I_per_unit = fault_current / pickup\n",
        "    if I_per_unit > 20.0:\n",
        "        I_per_unit = 20.0  # IEC curves usually go definite time at 20x setting\n",
        "\n",
        "    # IEC 60255 curve constants\n",
        "    K = {\"SI\": 0.14, \"VI\": 13.5, \"EI\": 80.0}[curve]\n",
        "    alpha = {\"SI\": 0.02, \"VI\": 1.00, \"EI\": 2.00}[curve]\n",
        "\n",
        "    TMS = target_time  * ((I_per_unit ** alpha) - 1) / K\n",
        "\n",
        "    if debug:\n",
        "        print(f\"TMS calc: {TMS:.2f} xt | Pickup {pickup:.2f} A, curve {curve}, target time {target_time:.2f} A ({I_per_unit:.2f} x setting), fault current {fault_current:.2f} sec\")\n",
        "\n",
        "    return TMS"
      ],
      "metadata": {
        "id": "OjspQUGNwYcV"
      },
      "execution_count": null,
      "outputs": []
    },
    {
      "cell_type": "code",
      "source": [
        "# Example usage\n",
        "pickup = 1.0  # in amperes\n",
        "curve_type = \"SI\"  # \"SI\", \"VI\", or \"EI\"\n",
        "TMS = 1  # time dial setting\n",
        "fault_current = 5.0  # in amperes\n",
        "\n",
        "# Calculate tripping time\n",
        "trip_time = IEC_255_Trip_Time(pickup, curve_type, TMS, fault_current, debug=True)\n",
        "\n",
        "print(f\"Relay Tripping Time: {trip_time:.3f} seconds\")"
      ],
      "metadata": {
        "colab": {
          "base_uri": "https://localhost:8080/"
        },
        "id": "oFKpCMywwagm",
        "outputId": "10f171d8-f60a-4cc3-b0a4-c3e5cd23007b"
      },
      "execution_count": null,
      "outputs": [
        {
          "output_type": "stream",
          "name": "stdout",
          "text": [
            "Trip time: 4.280 sec | Pickup 1.00 A, curve SI, TMS 1.00 xt, fault current 5.00 A (5.00 x setting)\n",
            "Relay Tripping Time: 4.280 seconds\n"
          ]
        }
      ]
    },
    {
      "cell_type": "code",
      "source": [
        "# Example usage\n",
        "pickup = 5.0  # in amperes\n",
        "curve_type = \"SI\"  # \"SI\", \"VI\", or \"EI\"\n",
        "target_time = 1.485  # in sec\n",
        "fault_current = 50.0  # in amperes\n",
        "\n",
        "# Calculate tripping time\n",
        "TMS = IEC_255_TMS_Calc(pickup, curve_type, target_time, fault_current, debug=True)\n",
        "\n",
        "print(f\"Relay TMS: {TMS:.2f}\")"
      ],
      "metadata": {
        "colab": {
          "base_uri": "https://localhost:8080/"
        },
        "id": "oSUWikOncOjZ",
        "outputId": "2f64325b-e165-44a5-ba61-c7f5d1c0e6ae"
      },
      "execution_count": null,
      "outputs": [
        {
          "output_type": "stream",
          "name": "stdout",
          "text": [
            "TMS calc: 0.50 xt | Pickup 5.00 A, curve SI, target time 1.49 A (10.00 x setting), fault current 50.00 sec\n",
            "Relay TMS: 0.50\n"
          ]
        }
      ]
    },
    {
      "cell_type": "markdown",
      "source": [
        "#DIFFERENT  FORMULAS"
      ],
      "metadata": {
        "id": "kmTKmic0sQTw"
      }
    },
    {
      "cell_type": "code",
      "source": [
        "pickup = 5\n",
        "fault_current = 50\n",
        "t = 1.485\n",
        "K = 0.14\n",
        "alpha = 0.02\n",
        "\n",
        "\n",
        "I_per_unit = fault_current / pickup\n",
        "#t = TMS * K / ((I_per_unit ** alpha) - 1)\n",
        "\n",
        "#print (t)\n"
      ],
      "metadata": {
        "id": "RP7OauoTsPbm"
      },
      "execution_count": null,
      "outputs": []
    },
    {
      "cell_type": "code",
      "source": [
        " TMS = t  * ((I_per_unit ** alpha) - 1) / K\n",
        "\n",
        " print(TMS)"
      ],
      "metadata": {
        "colab": {
          "base_uri": "https://localhost:8080/"
        },
        "id": "KIt_o3wrthbv",
        "outputId": "d71b7980-6da2-4c47-cf3e-b85d43ccdede"
      },
      "execution_count": null,
      "outputs": [
        {
          "output_type": "stream",
          "name": "stdout",
          "text": [
            "0.49989924182561374\n"
          ]
        }
      ]
    }
  ]
}